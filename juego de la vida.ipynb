{
 "cells": [
  {
   "attachments": {
    "img_UNIVERSIDAD-SALESIANA.jpg": {
     "image/jpeg": "[encoded data removed]"
    }
   },
   "cell_type": "markdown",
   "metadata": {},
   "source": [
    "![img_UNIVERSIDAD-SALESIANA.jpg](attachment:img_UNIVERSIDAD-SALESIANA.jpg)"
   ]
  },
  {
   "cell_type": "markdown",
   "metadata": {},
   "source": [
    "# Simulación"
   ]
  },
  {
   "cell_type": "markdown",
   "metadata": {},
   "source": [
    "### Introducción y Reglas del Juego"
   ]
  },
  {
   "cell_type": "markdown",
   "metadata": {},
   "source": [
    "El juego de la vida se desarrolla sobre un tablero cuadriculado o rejilla que en principio se presupone que es infinito. Evidentemente, en la práctica eso no puede ser, pero basta con hacerlo suficientemente grande. Cada casilla de ese tablero puede estar libre u ocupada. Estos dos estados se suelen distinguir con distintos colores. Cada casilla de este tablero está pues rodeada a su vez por otras 8 casillas o celdas. Yo las llamaré células de ahora en adelante.\n",
    "\n",
    "Este “juego” es un juego de cero jugadores, lo que significa que no es necesaria la interacción de ninguna persona, ya que su desarrollo está determinado por la configuración inicial.\n",
    "\n",
    "El juego se desarrolla por turnos: en cada turno se examinan todas las casillas del tablero y se calcula cual será su estado en el siguiente turno (también denominado generación). Finalmente, cuando ya se han calculado todos los estados, se actualiza el tablero.\n",
    "\n",
    "El estado que tendrá una casilla en el siguiente turno se calcula siguiendo 3 reglas muy simples (como casi todos los juegos de Conway) pero que, sorprendentemente, pueden dar lugar a situaciones de enorme complejidad:\n",
    "\n",
    "\n",
    "- Si una casilla está ocupada y el número de casillas adyacentes también ocupadas es menor que 2, la célula muere por aislamiento y se retira del tablero en la siguiente generación.\n",
    "\n",
    "- Si una casilla está ocupada y el número de células que la rodean es mayor que 3, la célula muere por superpoblación (se quita del tablero en el siguiente turno).\n",
    "\n",
    "- Una casilla libre que tenga 3 (y sólo 3) células adyacentes da lugar a una célula viva en el siguiente turno.\n",
    "\n",
    "Estas tres simples reglas conforman un sistema caótico: cambiar una simple célula de estado puede hacer que la configuración desaparezca (tablero vacío), a que viva indefinidamente como una configuración oscilante o incluso cosas más interesantes."
   ]
  },
  {
   "cell_type": "markdown",
   "metadata": {},
   "source": [
    "## Codigo a Implementarse en Python"
   ]
  },
  {
   "cell_type": "code",
   "execution_count": 150,
   "metadata": {},
   "outputs": [],
   "source": [
    "import numpy as np\n",
    "import matplotlib.pyplot as plt\n",
    "import matplotlib.patches as patches"
   ]
  },
  {
   "cell_type": "code",
   "execution_count": 151,
   "metadata": {},
   "outputs": [],
   "source": [
    "def exten(mat):\n",
    "    n = len(mat)\n",
    "    ex  = np.zeros((n+2,n+2))\n",
    "    ex[1:n+1,1:n+1] = mat\n",
    "    return ex "
   ]
  },
  {
   "cell_type": "code",
   "execution_count": 152,
   "metadata": {},
   "outputs": [],
   "source": [
    "def sumavecinos(i,j, ex):\n",
    "    return (ex[i,j-1] + ex[i,j+1] + ex[i-1,j-1] + \n",
    "            (ex[i-1,j] + ex[i-1,j+1] + ex[i+1,j-1]) + \n",
    "            (ex[i+1,j]+ ex[i+1,j+1]))"
   ]
  },
  {
   "cell_type": "code",
   "execution_count": 153,
   "metadata": {},
   "outputs": [],
   "source": [
    "def reglas(mat):\n",
    "    n = len(mat)\n",
    "    ex  = exten(mat)\n",
    "    nmat = np.zeros((n,n))\n",
    "    for i in range(1,n+1):\n",
    "        for j in range(1,n+1):\n",
    "            s = sumavecinos(i,j,ex)\n",
    "            if  s>3 or s <=1: \n",
    "                nmat[i-1,j-1] = 0\n",
    "            if s == 3 and mat[i-1,j-1]== 0: \n",
    "                nmat[i-1,j-1] = 1\n",
    "            if (s == 3 or s== 2) and mat[i-1,j-1]== 1: \n",
    "                nmat[i-1,j-1] = 1\n",
    "    return nmat  "
   ]
  },
  {
   "cell_type": "markdown",
   "metadata": {},
   "source": [
    "La evolución del estado inicial  𝑛  unidades de tiempo después está dada por el resultado de evolución (n (entero) y init (matriz de estado inicial))"
   ]
  },
  {
   "cell_type": "code",
   "execution_count": 154,
   "metadata": {},
   "outputs": [],
   "source": [
    "def evolucion(n,ini):\n",
    "    historia = []\n",
    "    historia.append(ini)\n",
    "    g = ini \n",
    "    for i in range(n):\n",
    "        g = reglas(g)\n",
    "        historia.append(g)\n",
    "    return historia"
   ]
  },
  {
   "cell_type": "code",
   "execution_count": 155,
   "metadata": {},
   "outputs": [],
   "source": [
    "def andamio(mt):\n",
    "    n = len(mt)\n",
    "    dx = 1/n\n",
    "    pieces = []\n",
    "    frame = patches.Rectangle(\n",
    "        (0.0, 0.0),1, 1, fill=False, edgecolor=\"black\",linewidth=2) \n",
    "    pieces.append(frame)\n",
    "    for j in range(n):\n",
    "        for i in range(n):\n",
    "            if mt[i,j]==1:\n",
    "                p = patches.Rectangle(\n",
    "                    (j/n,(n-1-i)/n), dx,dx, edgecolor=\"black\", facecolor=\"blue\", fill=True,linewidth=2 )\n",
    "                pieces.append(p)\n",
    "            if mt[i,j]==0:\n",
    "                p = patches.Rectangle(\n",
    "                    (j/n,(n-1-i)/n), dx,dx, edgecolor=\"black\", fill=False,linewidth=2)\n",
    "                pieces.append(p)\n",
    "    return pieces"
   ]
  },
  {
   "cell_type": "code",
   "execution_count": 156,
   "metadata": {},
   "outputs": [],
   "source": [
    "def muestre(x):\n",
    "    ax1=plt.subplot(111,aspect='equal')\n",
    "    shape = andamio(x)\n",
    "    for p in shape: ax1.add_patch(p)\n",
    "    plt.axis('off')\n",
    "    plt.show() "
   ]
  },
  {
   "cell_type": "code",
   "execution_count": 157,
   "metadata": {},
   "outputs": [],
   "source": [
    "def muestre2(x, y):\n",
    "    fg = plt.figure(figsize=(6,3))\n",
    "    adj = plt.subplots_adjust(hspace=0.4)\n",
    "    \n",
    "    ax1=plt.subplot(121,aspect='equal')\n",
    "    shape = andamio(x)\n",
    "    for p in shape: ax1.add_patch(p)\n",
    "    plt.axis('off')\n",
    " \n",
    "    ax1=plt.subplot(122,aspect='equal')\n",
    "    shape = andamio(y)\n",
    "    for p in shape: ax1.add_patch(p)\n",
    "    plt.axis('off')\n",
    "    plt.show() "
   ]
  },
  {
   "cell_type": "code",
   "execution_count": 158,
   "metadata": {},
   "outputs": [
    {
     "ename": "SyntaxError",
     "evalue": "invalid syntax (<ipython-input-158-6107599053f6>, line 1)",
     "output_type": "error",
     "traceback": [
      "\u001b[0;36m  File \u001b[0;32m\"<ipython-input-158-6107599053f6>\"\u001b[0;36m, line \u001b[0;32m1\u001b[0m\n\u001b[0;31m    ef muestre3(x, y, z):\u001b[0m\n\u001b[0m              ^\u001b[0m\n\u001b[0;31mSyntaxError\u001b[0m\u001b[0;31m:\u001b[0m invalid syntax\n"
     ]
    }
   ],
   "source": [
    "ef muestre3(x, y, z):\n",
    "    fg = plt.figure(figsize=(9,3))\n",
    "    adj = plt.subplots_adjust(hspace=0.4)\n",
    "  \n",
    "    ax1=plt.subplot(131,aspect='equal')\n",
    "    shape = andamio(x)\n",
    "    for p in shape: ax1.add_patch(p)\n",
    "    plt.axis('off')\n",
    " \n",
    "    ax2=plt.subplot(132,aspect='equal')\n",
    "    shape = andamio(y)\n",
    "    for p in shape: ax2.add_patch(p)\n",
    "    plt.axis('off')\n",
    "\n",
    "    ax3=plt.subplot(133,aspect='equal')\n",
    "    shape = andamio(z)\n",
    "    for p in shape: ax3.add_patch(p)\n",
    "    plt.axis('off')\n",
    "\n",
    "    plt.show() "
   ]
  },
  {
   "cell_type": "code",
   "execution_count": 167,
   "metadata": {},
   "outputs": [],
   "source": [
    "def muestre4(w,x, y, z):\n",
    "    fg = plt.figure(figsize=(16,4))\n",
    "    adj = plt.subplots_adjust(hspace=0.4)\n",
    "\n",
    "    ax1=plt.subplot(141,aspect='equal')\n",
    "    shape = andamio(w)\n",
    "    for p in shape: ax1.add_patch(p)\n",
    "    plt.axis('off')\n",
    "\n",
    "    ax2=plt.subplot(142,aspect='equal')\n",
    "    shape = andamio(x)\n",
    "    for p in shape: ax2.add_patch(p)\n",
    "    plt.axis('off')\n",
    "\n",
    "    ax3=plt.subplot(143,aspect='equal')\n",
    "    shape = andamio(y)\n",
    "    for p in shape: ax3.add_patch(p)\n",
    "    plt.axis('off')\n",
    " \n",
    "    ax4=plt.subplot(144,aspect='equal')\n",
    "    shape = andamio(z)\n",
    "    for p in shape: ax4.add_patch(p)\n",
    "    plt.axis('off')\n",
    "\n",
    "    plt.show() "
   ]
  },
  {
   "cell_type": "code",
   "execution_count": 171,
   "metadata": {},
   "outputs": [],
   "source": [
    "init = np.zeros((15,15))\n",
    "init[4,3] = 1\n",
    "init[8,3] = 1\n",
    "init[3,4] = 1\n",
    "init[5,4] = 1\n",
    "init[7,4] = 1\n",
    "init[9,4] = 1\n",
    "init[4,5] = 1\n",
    "init[6,5] = 1\n",
    "init[8,5] = 1\n",
    "init[5,6] = 1\n",
    "init[7,6] = 1\n",
    "init[6,7] = 1"
   ]
  },
  {
   "cell_type": "code",
   "execution_count": 172,
   "metadata": {
    "scrolled": true
   },
   "outputs": [
    {
     "data": {
      "image/png": "[encoded data removed]",
      "text/plain": [
       "<Figure size 432x288 with 1 Axes>"
      ]
     },
     "metadata": {
      "needs_background": "light"
     },
     "output_type": "display_data"
    }
   ],
   "source": [
    "ev = evolucion(46, init) \n",
    "muestre(init)"
   ]
  },
  {
   "cell_type": "code",
   "execution_count": 173,
   "metadata": {},
   "outputs": [
    {
     "data": {
      "image/png": "[encoded data removed]",
      "text/plain": [
       "<Figure size 1152x288 with 4 Axes>"
      ]
     },
     "metadata": {
      "needs_background": "light"
     },
     "output_type": "display_data"
    }
   ],
   "source": [
    "muestre4(ev[0], ev[1], ev[2], ev[3])"
   ]
  },
  {
   "cell_type": "markdown",
   "metadata": {},
   "source": [
    "Figura 1. Cruz\n",
    "init = np.zeros((15,15))\n",
    "init[5,3] = 1\n",
    "init[6,3] = 1\n",
    "init[5,4] = 1\n",
    "init[6,4] = 1\n",
    "init[3,5] = 1\n",
    "init[4,5] = 1\n",
    "init[5,5] = 1\n",
    "init[6,5] = 1\n",
    "init[7,5] = 1\n",
    "init[8,5] = 1\n",
    "init[3,6] = 1\n",
    "init[4,6] = 1\n",
    "init[5,6] = 1\n",
    "init[6,6] = 1\n",
    "init[7,6] = 1\n",
    "init[8,6] = 1\n",
    "init[5,7] = 1\n",
    "init[6,7] = 1\n",
    "init[5,8] = 1\n",
    "init[6,8] = 1"
   ]
  },
  {
   "cell_type": "markdown",
   "metadata": {},
   "source": [
    "Figura 2. Cruz Pequeña\n",
    "init = np.zeros((15,15))\n",
    "init[5,4] = 1\n",
    "init[6,4] = 1\n",
    "init[4,5] = 1\n",
    "init[5,5] = 1\n",
    "init[6,5] = 1\n",
    "init[7,5] = 1\n",
    "init[4,6] = 1\n",
    "init[5,6] = 1\n",
    "init[6,6] = 1\n",
    "init[7,6] = 1\n",
    "init[5,7] = 1\n",
    "init[6,7] = 1"
   ]
  },
  {
   "cell_type": "markdown",
   "metadata": {},
   "source": [
    "Figura 3. Cara\n",
    "init = np.zeros(15,15))\n",
    "init[5,4] = 1\n",
    "init[6,4] = 1\n",
    "init[4,5] = 1\n",
    "init[5,5] = 1\n",
    "init[6,5] = 1\n",
    "init[7,5] = 1\n",
    "init[3,6] = 1\n",
    "init[4,6] = 1\n",
    "init[5,6] = 1\n",
    "init[7,6] = 1\n",
    "init[8.6] = 1\n",
    "init[4,7] = 1\n",
    "init[5,7] = 1\n",
    "init[6,7] = 1\n",
    "init[7,7] = 1"
   ]
  },
  {
   "cell_type": "markdown",
   "metadata": {},
   "source": [
    "Figura 4. L.\n",
    "init = np.zeros((15,15))\n",
    "init[4,3] = 1\n",
    "init[5,3] = 1\n",
    "init[4,4] = 1\n",
    "init[5,4] = 1\n",
    "init[4,5] = 1\n",
    "init[5,5] = 1\n",
    "init[4,6] = 1\n",
    "init[5,6] = 1\n",
    "init[4,7] = 1\n",
    "init[5,7] = 1\n",
    "init[6,7] = 1\n",
    "init[7,7] = 1\n",
    "init[4,8] = 1\n",
    "init[5,8] = 1\n",
    "init[6,8] = 1\n",
    "init[7,8] = 1"
   ]
  },
  {
   "cell_type": "markdown",
   "metadata": {},
   "source": [
    "Figura 5. =\n",
    "init = np.zeros((15,15))\n",
    "init[3,4] = 1\n",
    "init[4,3] = 1\n",
    "init[5,4] = 1\n",
    "init[4,5] = 1\n",
    "init[6,5] = 1\n",
    "init[5,6] = 1\n",
    "init[7,6] = 1\n",
    "init[6,7] = 1\n",
    "init[8,7] = 1\n",
    "init[7,8] = 1"
   ]
  },
  {
   "cell_type": "markdown",
   "metadata": {},
   "source": [
    "Figura 6. Micro\n",
    "init = np.zeros((15,15))\n",
    "init[4,3] = 1\n",
    "init[8,3] = 1\n",
    "init[3,4] = 1\n",
    "init[5,4] = 1\n",
    "init[7,4] = 1\n",
    "init[9,4] = 1\n",
    "init[4,5] = 1\n",
    "init[6,5] = 1\n",
    "init[8,5] = 1\n",
    "init[5,6] = 1\n",
    "init[7,6] = 1\n",
    "init[6,7] = 1"
   ]
  },
  {
   "cell_type": "markdown",
   "metadata": {},
   "source": [
    "## Resultados Esperados del simulador "
   ]
  },
  {
   "cell_type": "markdown",
   "metadata": {},
   "source": [
    "Se prevee que el simulador se ejecute según las iteracciones que se desee visualizar."
   ]
  },
  {
   "cell_type": "markdown",
   "metadata": {},
   "source": [
    "## Plan de experimentación "
   ]
  },
  {
   "cell_type": "markdown",
   "metadata": {},
   "source": [
    "Según las celulas que se tiene y el numero de iteracciones que se va a relizar. Con el objetivo de ver el numero de celulas vivas que quedan al final de las itecciones"
   ]
  },
  {
   "cell_type": "markdown",
   "metadata": {},
   "source": [
    "## Tiempo disponible "
   ]
  },
  {
   "cell_type": "markdown",
   "metadata": {},
   "source": [
    "1 semana"
   ]
  },
  {
   "cell_type": "markdown",
   "metadata": {},
   "source": [
    "## Variables de interés "
   ]
  },
  {
   "cell_type": "markdown",
   "metadata": {},
   "source": [
    "- Número de itecciones \n",
    "- Número celulas muertas\n",
    "- Número de celulas vivas"
   ]
  },
  {
   "cell_type": "markdown",
   "metadata": {},
   "source": [
    "## Bibliografía "
   ]
  },
  {
   "cell_type": "markdown",
   "metadata": {},
   "source": [
    "Frittelli, V., Tartabini, M., Teicher, R., Steffolani, F., Serrano, D., Fernández, J., ... & Strub, A. (2013). Desarrollo de Juegos como Estrategia Didáctica en la Enseñanza de la Programación. CONAIISI 2013."
   ]
  },
  {
   "cell_type": "markdown",
   "metadata": {},
   "source": [
    "Extraído de: https://boriel.com/es/lab/el-juego-de-la-vida-de-conway/"
   ]
  }
 ],
 "metadata": {
  "kernelspec": {
   "display_name": "Python 3.7 simpy",
   "language": "python",
   "name": "deber1"
  },
  "language_info": {
   "codemirror_mode": {
    "name": "ipython",
    "version": 3
   },
   "file_extension": ".py",
   "mimetype": "text/x-python",
   "name": "python",
   "nbconvert_exporter": "python",
   "pygments_lexer": "ipython3",
   "version": "3.7.3"
  }
 },
 "nbformat": 4,
 "nbformat_minor": 2
}
